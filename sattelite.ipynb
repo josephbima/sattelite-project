{
 "cells": [
  {
   "cell_type": "code",
   "execution_count": 98,
   "metadata": {},
   "outputs": [],
   "source": [
    "import pandas as pd\n",
    "import numpy as np\n",
    "import matplotlib.pyplot as plt"
   ]
  },
  {
   "cell_type": "code",
   "execution_count": 473,
   "metadata": {},
   "outputs": [
    {
     "data": {
      "text/html": [
       "<div>\n",
       "<style scoped>\n",
       "    .dataframe tbody tr th:only-of-type {\n",
       "        vertical-align: middle;\n",
       "    }\n",
       "\n",
       "    .dataframe tbody tr th {\n",
       "        vertical-align: top;\n",
       "    }\n",
       "\n",
       "    .dataframe thead th {\n",
       "        text-align: right;\n",
       "    }\n",
       "</style>\n",
       "<table border=\"1\" class=\"dataframe\">\n",
       "  <thead>\n",
       "    <tr style=\"text-align: right;\">\n",
       "      <th></th>\n",
       "      <th>reflectance</th>\n",
       "    </tr>\n",
       "    <tr>\n",
       "      <th>wavelength</th>\n",
       "      <th></th>\n",
       "    </tr>\n",
       "  </thead>\n",
       "  <tbody>\n",
       "    <tr>\n",
       "      <th>300</th>\n",
       "      <td>0.59258</td>\n",
       "    </tr>\n",
       "    <tr>\n",
       "      <th>305</th>\n",
       "      <td>0.59681</td>\n",
       "    </tr>\n",
       "    <tr>\n",
       "      <th>310</th>\n",
       "      <td>0.60422</td>\n",
       "    </tr>\n",
       "    <tr>\n",
       "      <th>315</th>\n",
       "      <td>0.61314</td>\n",
       "    </tr>\n",
       "    <tr>\n",
       "      <th>320</th>\n",
       "      <td>0.61801</td>\n",
       "    </tr>\n",
       "  </tbody>\n",
       "</table>\n",
       "</div>"
      ],
      "text/plain": [
       "            reflectance\n",
       "wavelength             \n",
       "300             0.59258\n",
       "305             0.59681\n",
       "310             0.60422\n",
       "315             0.61314\n",
       "320             0.61801"
      ]
     },
     "execution_count": 473,
     "metadata": {},
     "output_type": "execute_result"
    }
   ],
   "source": [
    "txt_file = 'RelabDatabase2020Dec31/data/jeh/pq/capq03.txt'\n",
    "df = pd.read_table(txt_file, sep='\\t', skiprows=2, names = ['wavelength', 'reflectance'])\n",
    "\n",
    "# Convert wavelength from micron to nanometer\n",
    "df['wavelength'] = df['wavelength'].apply(lambda x: int(x * 1000))\n",
    "\n",
    "# Material files used for testing\n",
    "\"\"\"\n",
    "\n",
    "txt_file = 'RelabDatabase2020Dec31/data/asr/sr/bkr1sr030.txt' starts from 300, step 5\n",
    "\n",
    "txt_file = 'RelabDatabase2020Dec31/data/awb/mt/bkr1mt168a.txt' starts from 280, step 5\n",
    "\n",
    "txt_file = 'RelabDatabase2020Dec31/data/jeh/pq/capq03.txt' starts from 300 ends at 2500, step 5\n",
    "\n",
    "\"\"\"\n",
    "\n",
    "\n",
    "# Group by wavelength to use wavelength as index\n",
    "gbw = df.groupby('wavelength').mean()\n",
    "gbw.head()"
   ]
  },
  {
   "cell_type": "code",
   "execution_count": 475,
   "metadata": {},
   "outputs": [
    {
     "data": {
      "image/png": "[encoded data removed]",
      "text/plain": [
       "<Figure size 720x360 with 1 Axes>"
      ]
     },
     "metadata": {
      "needs_background": "light"
     },
     "output_type": "display_data"
    }
   ],
   "source": [
    "plt.figure(figsize=(10,5))\n",
    "plt.title('Material Reflectance')\n",
    "plt.plot(gbw.index, gbw['reflectance'])\n",
    "plt.xlabel('Wavelength (Micron)')\n",
    "plt.ylabel('Reflectance')\n",
    "plt.show()"
   ]
  },
  {
   "cell_type": "code",
   "execution_count": 506,
   "metadata": {},
   "outputs": [
    {
     "name": "stdout",
     "output_type": "stream",
     "text": [
      "(2301, 13)\n"
     ]
    },
    {
     "data": {
      "text/html": [
       "<div>\n",
       "<style scoped>\n",
       "    .dataframe tbody tr th:only-of-type {\n",
       "        vertical-align: middle;\n",
       "    }\n",
       "\n",
       "    .dataframe tbody tr th {\n",
       "        vertical-align: top;\n",
       "    }\n",
       "\n",
       "    .dataframe thead th {\n",
       "        text-align: right;\n",
       "    }\n",
       "</style>\n",
       "<table border=\"1\" class=\"dataframe\">\n",
       "  <thead>\n",
       "    <tr style=\"text-align: right;\">\n",
       "      <th></th>\n",
       "      <th>S2A_SR_AV_B1</th>\n",
       "      <th>S2A_SR_AV_B2</th>\n",
       "      <th>S2A_SR_AV_B3</th>\n",
       "      <th>S2A_SR_AV_B4</th>\n",
       "      <th>S2A_SR_AV_B5</th>\n",
       "      <th>S2A_SR_AV_B6</th>\n",
       "      <th>S2A_SR_AV_B7</th>\n",
       "      <th>S2A_SR_AV_B8</th>\n",
       "      <th>S2A_SR_AV_B8A</th>\n",
       "      <th>S2A_SR_AV_B9</th>\n",
       "      <th>S2A_SR_AV_B10</th>\n",
       "      <th>S2A_SR_AV_B11</th>\n",
       "      <th>S2A_SR_AV_B12</th>\n",
       "    </tr>\n",
       "    <tr>\n",
       "      <th>SR_WL</th>\n",
       "      <th></th>\n",
       "      <th></th>\n",
       "      <th></th>\n",
       "      <th></th>\n",
       "      <th></th>\n",
       "      <th></th>\n",
       "      <th></th>\n",
       "      <th></th>\n",
       "      <th></th>\n",
       "      <th></th>\n",
       "      <th></th>\n",
       "      <th></th>\n",
       "      <th></th>\n",
       "    </tr>\n",
       "  </thead>\n",
       "  <tbody>\n",
       "    <tr>\n",
       "      <th>300</th>\n",
       "      <td>0.0</td>\n",
       "      <td>0.0</td>\n",
       "      <td>0.0</td>\n",
       "      <td>0.0</td>\n",
       "      <td>0.0</td>\n",
       "      <td>0.0</td>\n",
       "      <td>0.0</td>\n",
       "      <td>0.0</td>\n",
       "      <td>0.0</td>\n",
       "      <td>0.0</td>\n",
       "      <td>0.0</td>\n",
       "      <td>0.0</td>\n",
       "      <td>0.0</td>\n",
       "    </tr>\n",
       "    <tr>\n",
       "      <th>301</th>\n",
       "      <td>0.0</td>\n",
       "      <td>0.0</td>\n",
       "      <td>0.0</td>\n",
       "      <td>0.0</td>\n",
       "      <td>0.0</td>\n",
       "      <td>0.0</td>\n",
       "      <td>0.0</td>\n",
       "      <td>0.0</td>\n",
       "      <td>0.0</td>\n",
       "      <td>0.0</td>\n",
       "      <td>0.0</td>\n",
       "      <td>0.0</td>\n",
       "      <td>0.0</td>\n",
       "    </tr>\n",
       "    <tr>\n",
       "      <th>302</th>\n",
       "      <td>0.0</td>\n",
       "      <td>0.0</td>\n",
       "      <td>0.0</td>\n",
       "      <td>0.0</td>\n",
       "      <td>0.0</td>\n",
       "      <td>0.0</td>\n",
       "      <td>0.0</td>\n",
       "      <td>0.0</td>\n",
       "      <td>0.0</td>\n",
       "      <td>0.0</td>\n",
       "      <td>0.0</td>\n",
       "      <td>0.0</td>\n",
       "      <td>0.0</td>\n",
       "    </tr>\n",
       "    <tr>\n",
       "      <th>303</th>\n",
       "      <td>0.0</td>\n",
       "      <td>0.0</td>\n",
       "      <td>0.0</td>\n",
       "      <td>0.0</td>\n",
       "      <td>0.0</td>\n",
       "      <td>0.0</td>\n",
       "      <td>0.0</td>\n",
       "      <td>0.0</td>\n",
       "      <td>0.0</td>\n",
       "      <td>0.0</td>\n",
       "      <td>0.0</td>\n",
       "      <td>0.0</td>\n",
       "      <td>0.0</td>\n",
       "    </tr>\n",
       "    <tr>\n",
       "      <th>304</th>\n",
       "      <td>0.0</td>\n",
       "      <td>0.0</td>\n",
       "      <td>0.0</td>\n",
       "      <td>0.0</td>\n",
       "      <td>0.0</td>\n",
       "      <td>0.0</td>\n",
       "      <td>0.0</td>\n",
       "      <td>0.0</td>\n",
       "      <td>0.0</td>\n",
       "      <td>0.0</td>\n",
       "      <td>0.0</td>\n",
       "      <td>0.0</td>\n",
       "      <td>0.0</td>\n",
       "    </tr>\n",
       "  </tbody>\n",
       "</table>\n",
       "</div>"
      ],
      "text/plain": [
       "       S2A_SR_AV_B1  S2A_SR_AV_B2  S2A_SR_AV_B3  S2A_SR_AV_B4  S2A_SR_AV_B5  \\\n",
       "SR_WL                                                                         \n",
       "300             0.0           0.0           0.0           0.0           0.0   \n",
       "301             0.0           0.0           0.0           0.0           0.0   \n",
       "302             0.0           0.0           0.0           0.0           0.0   \n",
       "303             0.0           0.0           0.0           0.0           0.0   \n",
       "304             0.0           0.0           0.0           0.0           0.0   \n",
       "\n",
       "       S2A_SR_AV_B6  S2A_SR_AV_B7  S2A_SR_AV_B8  S2A_SR_AV_B8A  S2A_SR_AV_B9  \\\n",
       "SR_WL                                                                          \n",
       "300             0.0           0.0           0.0            0.0           0.0   \n",
       "301             0.0           0.0           0.0            0.0           0.0   \n",
       "302             0.0           0.0           0.0            0.0           0.0   \n",
       "303             0.0           0.0           0.0            0.0           0.0   \n",
       "304             0.0           0.0           0.0            0.0           0.0   \n",
       "\n",
       "       S2A_SR_AV_B10  S2A_SR_AV_B11  S2A_SR_AV_B12  \n",
       "SR_WL                                               \n",
       "300              0.0            0.0            0.0  \n",
       "301              0.0            0.0            0.0  \n",
       "302              0.0            0.0            0.0  \n",
       "303              0.0            0.0            0.0  \n",
       "304              0.0            0.0            0.0  "
      ]
     },
     "execution_count": 506,
     "metadata": {},
     "output_type": "execute_result"
    }
   ],
   "source": [
    "resp_file = 's2a_response.csv'\n",
    "sr_df = pd.read_csv(resp_file, skiprows=1)\n",
    "\n",
    "# Group by wavelength so we can use it as index\n",
    "sr_df = sr_df.groupby('SR_WL').mean()\n",
    "\n",
    "print(sr_df.shape)\n",
    "sr_df.head() # Step is 1"
   ]
  },
  {
   "cell_type": "code",
   "execution_count": 507,
   "metadata": {},
   "outputs": [
    {
     "name": "stdout",
     "output_type": "stream",
     "text": [
      "(461, 13)\n"
     ]
    }
   ],
   "source": [
    "# Resampling the wavelength into steps of n\n",
    "n = 5\n",
    "\n",
    "df1 = sr_df.groupby(sr_df.index // n).mean()\n",
    "\n",
    "df1.index *=n\n",
    "print(df1.shape)"
   ]
  },
  {
   "cell_type": "code",
   "execution_count": 509,
   "metadata": {},
   "outputs": [
    {
     "data": {
      "text/html": [
       "<div>\n",
       "<style scoped>\n",
       "    .dataframe tbody tr th:only-of-type {\n",
       "        vertical-align: middle;\n",
       "    }\n",
       "\n",
       "    .dataframe tbody tr th {\n",
       "        vertical-align: top;\n",
       "    }\n",
       "\n",
       "    .dataframe thead th {\n",
       "        text-align: right;\n",
       "    }\n",
       "</style>\n",
       "<table border=\"1\" class=\"dataframe\">\n",
       "  <thead>\n",
       "    <tr style=\"text-align: right;\">\n",
       "      <th></th>\n",
       "      <th>S2A_SR_AV_B1</th>\n",
       "      <th>S2A_SR_AV_B2</th>\n",
       "      <th>S2A_SR_AV_B3</th>\n",
       "      <th>S2A_SR_AV_B4</th>\n",
       "      <th>S2A_SR_AV_B5</th>\n",
       "      <th>S2A_SR_AV_B6</th>\n",
       "      <th>S2A_SR_AV_B7</th>\n",
       "      <th>S2A_SR_AV_B8</th>\n",
       "      <th>S2A_SR_AV_B8A</th>\n",
       "      <th>S2A_SR_AV_B9</th>\n",
       "      <th>S2A_SR_AV_B10</th>\n",
       "      <th>S2A_SR_AV_B11</th>\n",
       "      <th>S2A_SR_AV_B12</th>\n",
       "    </tr>\n",
       "    <tr>\n",
       "      <th>SR_WL</th>\n",
       "      <th></th>\n",
       "      <th></th>\n",
       "      <th></th>\n",
       "      <th></th>\n",
       "      <th></th>\n",
       "      <th></th>\n",
       "      <th></th>\n",
       "      <th></th>\n",
       "      <th></th>\n",
       "      <th></th>\n",
       "      <th></th>\n",
       "      <th></th>\n",
       "      <th></th>\n",
       "    </tr>\n",
       "  </thead>\n",
       "  <tbody>\n",
       "    <tr>\n",
       "      <th>300</th>\n",
       "      <td>0.0</td>\n",
       "      <td>0.0</td>\n",
       "      <td>0.0</td>\n",
       "      <td>0.0</td>\n",
       "      <td>0.0</td>\n",
       "      <td>0.0</td>\n",
       "      <td>0.0</td>\n",
       "      <td>0.0</td>\n",
       "      <td>0.0</td>\n",
       "      <td>0.0</td>\n",
       "      <td>0.0</td>\n",
       "      <td>0.0</td>\n",
       "      <td>0.0</td>\n",
       "    </tr>\n",
       "    <tr>\n",
       "      <th>305</th>\n",
       "      <td>0.0</td>\n",
       "      <td>0.0</td>\n",
       "      <td>0.0</td>\n",
       "      <td>0.0</td>\n",
       "      <td>0.0</td>\n",
       "      <td>0.0</td>\n",
       "      <td>0.0</td>\n",
       "      <td>0.0</td>\n",
       "      <td>0.0</td>\n",
       "      <td>0.0</td>\n",
       "      <td>0.0</td>\n",
       "      <td>0.0</td>\n",
       "      <td>0.0</td>\n",
       "    </tr>\n",
       "    <tr>\n",
       "      <th>310</th>\n",
       "      <td>0.0</td>\n",
       "      <td>0.0</td>\n",
       "      <td>0.0</td>\n",
       "      <td>0.0</td>\n",
       "      <td>0.0</td>\n",
       "      <td>0.0</td>\n",
       "      <td>0.0</td>\n",
       "      <td>0.0</td>\n",
       "      <td>0.0</td>\n",
       "      <td>0.0</td>\n",
       "      <td>0.0</td>\n",
       "      <td>0.0</td>\n",
       "      <td>0.0</td>\n",
       "    </tr>\n",
       "    <tr>\n",
       "      <th>315</th>\n",
       "      <td>0.0</td>\n",
       "      <td>0.0</td>\n",
       "      <td>0.0</td>\n",
       "      <td>0.0</td>\n",
       "      <td>0.0</td>\n",
       "      <td>0.0</td>\n",
       "      <td>0.0</td>\n",
       "      <td>0.0</td>\n",
       "      <td>0.0</td>\n",
       "      <td>0.0</td>\n",
       "      <td>0.0</td>\n",
       "      <td>0.0</td>\n",
       "      <td>0.0</td>\n",
       "    </tr>\n",
       "    <tr>\n",
       "      <th>320</th>\n",
       "      <td>0.0</td>\n",
       "      <td>0.0</td>\n",
       "      <td>0.0</td>\n",
       "      <td>0.0</td>\n",
       "      <td>0.0</td>\n",
       "      <td>0.0</td>\n",
       "      <td>0.0</td>\n",
       "      <td>0.0</td>\n",
       "      <td>0.0</td>\n",
       "      <td>0.0</td>\n",
       "      <td>0.0</td>\n",
       "      <td>0.0</td>\n",
       "      <td>0.0</td>\n",
       "    </tr>\n",
       "  </tbody>\n",
       "</table>\n",
       "</div>"
      ],
      "text/plain": [
       "       S2A_SR_AV_B1  S2A_SR_AV_B2  S2A_SR_AV_B3  S2A_SR_AV_B4  S2A_SR_AV_B5  \\\n",
       "SR_WL                                                                         \n",
       "300             0.0           0.0           0.0           0.0           0.0   \n",
       "305             0.0           0.0           0.0           0.0           0.0   \n",
       "310             0.0           0.0           0.0           0.0           0.0   \n",
       "315             0.0           0.0           0.0           0.0           0.0   \n",
       "320             0.0           0.0           0.0           0.0           0.0   \n",
       "\n",
       "       S2A_SR_AV_B6  S2A_SR_AV_B7  S2A_SR_AV_B8  S2A_SR_AV_B8A  S2A_SR_AV_B9  \\\n",
       "SR_WL                                                                          \n",
       "300             0.0           0.0           0.0            0.0           0.0   \n",
       "305             0.0           0.0           0.0            0.0           0.0   \n",
       "310             0.0           0.0           0.0            0.0           0.0   \n",
       "315             0.0           0.0           0.0            0.0           0.0   \n",
       "320             0.0           0.0           0.0            0.0           0.0   \n",
       "\n",
       "       S2A_SR_AV_B10  S2A_SR_AV_B11  S2A_SR_AV_B12  \n",
       "SR_WL                                               \n",
       "300              0.0            0.0            0.0  \n",
       "305              0.0            0.0            0.0  \n",
       "310              0.0            0.0            0.0  \n",
       "315              0.0            0.0            0.0  \n",
       "320              0.0            0.0            0.0  "
      ]
     },
     "execution_count": 509,
     "metadata": {},
     "output_type": "execute_result"
    }
   ],
   "source": [
    "df1.head() # Now step is 5"
   ]
  },
  {
   "cell_type": "code",
   "execution_count": 510,
   "metadata": {},
   "outputs": [
    {
     "data": {
      "image/png": "[encoded data removed]",
      "text/plain": [
       "<Figure size 720x360 with 1 Axes>"
      ]
     },
     "metadata": {
      "needs_background": "light"
     },
     "output_type": "display_data"
    }
   ],
   "source": [
    "# Plotting our camera response function\n",
    "\n",
    "plt.figure(figsize=(10,5))\n",
    "plt.title('Resampled Response Function vs Wavelength (Nanometer)')\n",
    "\n",
    "plt.plot(df1.index, df1['S2A_SR_AV_B1'], label='B1')\n",
    "\n",
    "for i in range(2,13):\n",
    "    plt.plot(df1[f'S2A_SR_AV_B{i}'], label=f'B{i}')\n",
    "\n",
    "plt.plot(df1['S2A_SR_AV_B8A'], label = 'B8A')\n",
    "\n",
    "plt.legend(loc=\"upper right\")\n",
    "plt.xlabel('Wavelength (Nanometer)')\n",
    "plt.ylabel('Reflectance')\n",
    "plt.show()"
   ]
  },
  {
   "cell_type": "code",
   "execution_count": 511,
   "metadata": {},
   "outputs": [
    {
     "data": {
      "image/png": "[encoded data removed]",
      "text/plain": [
       "<Figure size 720x360 with 1 Axes>"
      ]
     },
     "metadata": {
      "needs_background": "light"
     },
     "output_type": "display_data"
    }
   ],
   "source": [
    "# Plotting our material reflectance and the camera response function\n",
    "\n",
    "plt.figure(figsize=(10,5))\n",
    "plt.title('Camera Response Function vs Object Response')\n",
    "\n",
    "plt.plot(df1.index, df1['S2A_SR_AV_B1'], label='B1',color='black')\n",
    "\n",
    "for i in range(2,13):\n",
    "    plt.plot(df1[f'S2A_SR_AV_B{i}'], label=f'B{i}', color='black')\n",
    "\n",
    "plt.plot(df1['S2A_SR_AV_B8A'], label = 'B8A', color='black')\n",
    "\n",
    "plt.xlabel('Wavelength')\n",
    "plt.ylabel('Reflectance')\n",
    "\n",
    "# Group by wavelength and take the mean\n",
    "plt.plot(gbw['reflectance'].loc[gbw.index <= 3000], color='red')\n",
    "plt.show()"
   ]
  },
  {
   "cell_type": "code",
   "execution_count": 512,
   "metadata": {},
   "outputs": [],
   "source": [
    "def get_weighted_sum(material_df,band_name):\n",
    "    \n",
    "    weight_sum = 0\n",
    "    missing_idx = set()\n",
    "\n",
    "    for wv, row in material_df.iterrows():\n",
    "        try:\n",
    "            if df1.at[wv, band_name] > 0:\n",
    "                weight_sum += (row['reflectance'] * df1.at[wv, band_name])\n",
    "#                 print(f\"Wavelength {wv} : {row['reflectance']} * {df1.at[wv, band_name]}\")\n",
    "        except KeyError:\n",
    "#            print(f'Key {wv} not found')\n",
    "            missing_idx.add(wv)\n",
    "            continue\n",
    "    \n",
    "#     print(f'Missing wavelength: {missing_idx} with length {len(missing_idx)}')\n",
    "    return weight_sum, missing_idx"
   ]
  },
  {
   "cell_type": "code",
   "execution_count": 513,
   "metadata": {},
   "outputs": [
    {
     "data": {
      "text/plain": [
       "[2.4646984248163557,\n",
       " 8.28262234892636,\n",
       " 4.457625049864843,\n",
       " 4.074862663052202,\n",
       " 1.9357491360693524,\n",
       " 1.8929524084549036,\n",
       " 2.4803262599149543,\n",
       " 12.074475262968727,\n",
       " 2.925002042922608,\n",
       " 2.7160108438069113,\n",
       " 4.03692174365852,\n",
       " 12.549460449364199,\n",
       " 22.91746289887448]"
      ]
     },
     "execution_count": 513,
     "metadata": {},
     "output_type": "execute_result"
    }
   ],
   "source": [
    "weighted_sums = []\n",
    "for band_name in df1.columns:\n",
    "    wsum, missing = get_weighted_sum(gbw,band_name)\n",
    "    weighted_sums.append(wsum)\n",
    "\n",
    "weighted_sums"
   ]
  },
  {
   "cell_type": "code",
   "execution_count": 514,
   "metadata": {},
   "outputs": [],
   "source": [
    "# Putting it all together in one function\n",
    "\n",
    "def get_all_weighted_sums_from_file(file_path, highlight_missing = False):\n",
    "    \n",
    "    df = pd.read_table(file_path, sep='\\t', skiprows=2, names = ['wavelength', 'reflectance'])\n",
    "\n",
    "    # Convert wavelength from micron to nanometer\n",
    "    df['wavelength'] = df['wavelength'].apply(lambda x: int(x * 1000))\n",
    "    \n",
    "    # Group by wavelength to use wavelength as index\n",
    "    grouped_by_wavelength = df.groupby('wavelength').mean()\n",
    "    grouped_by_wavelength = grouped_by_wavelength.loc[grouped_by_wavelength.index <= 2600]\n",
    "    \n",
    "    \n",
    "    weighted_sums = []\n",
    "    for band_name in df1.columns:\n",
    "        wsum, missing = get_weighted_sum(grouped_by_wavelength,band_name)\n",
    "        weighted_sums.append(wsum)\n",
    "   \n",
    "    print(f'There are {len(missing)} missing wavelengths in the material function')\n",
    "    \n",
    "     \n",
    "    if highlight_missing:\n",
    "        print(f'Missing wavelength: {missing} with length {len(missing)}')\n",
    "    \n",
    "    return weighted_sums"
   ]
  },
  {
   "cell_type": "code",
   "execution_count": 515,
   "metadata": {},
   "outputs": [
    {
     "name": "stdout",
     "output_type": "stream",
     "text": [
      "There are 1347 missing wavelengths in the material function\n"
     ]
    },
    {
     "data": {
      "text/plain": [
       "[1.1421568436841025,\n",
       " 4.121416287375569,\n",
       " 2.2727990490195538,\n",
       " 2.0993047032323022,\n",
       " 1.004835192046153,\n",
       " 0.9929409615017443,\n",
       " 1.3307845864741907,\n",
       " 6.53257258784841,\n",
       " 1.5834196468522037,\n",
       " 1.4541736296856216,\n",
       " 2.07310600310225,\n",
       " 6.52605528371307,\n",
       " 10.862512869561135]"
      ]
     },
     "execution_count": 515,
     "metadata": {},
     "output_type": "execute_result"
    }
   ],
   "source": [
    "# Testing on some materials\n",
    "file_path = 'RelabDatabase2020Dec31/data/asr/sr/bkr1sr030.txt'\n",
    "get_all_weighted_sums_from_file(file_path)"
   ]
  },
  {
   "cell_type": "code",
   "execution_count": 516,
   "metadata": {},
   "outputs": [
    {
     "name": "stdout",
     "output_type": "stream",
     "text": [
      "There are 4 missing wavelengths in the material function\n",
      "Missing wavelength: {2009, 1004, 2029, 1014} with length 4\n"
     ]
    },
    {
     "data": {
      "text/plain": [
       "[2.4646984248163557,\n",
       " 8.28262234892636,\n",
       " 4.457625049864843,\n",
       " 4.074862663052202,\n",
       " 1.9357491360693524,\n",
       " 1.8929524084549036,\n",
       " 2.4803262599149543,\n",
       " 12.074475262968727,\n",
       " 2.925002042922608,\n",
       " 2.7160108438069113,\n",
       " 4.03692174365852,\n",
       " 12.549460449364199,\n",
       " 22.91746289887448]"
      ]
     },
     "execution_count": 516,
     "metadata": {},
     "output_type": "execute_result"
    }
   ],
   "source": [
    "# Testing on other material\n",
    "file_path = 'RelabDatabase2020Dec31/data/jeh/pq/capq03.txt'\n",
    "get_all_weighted_sums_from_file(file_path, highlight_missing = True)"
   ]
  },
  {
   "cell_type": "code",
   "execution_count": 504,
   "metadata": {},
   "outputs": [
    {
     "name": "stdout",
     "output_type": "stream",
     "text": [
      "There are 39 missing wavelengths in the material function\n"
     ]
    },
    {
     "data": {
      "text/plain": [
       "[6.365565458135847,\n",
       " 23.742610754692453,\n",
       " 14.714908227577858,\n",
       " 14.18662198789808,\n",
       " 6.8684851482265366,\n",
       " 6.711534607304084,\n",
       " 7.777037349516522,\n",
       " 27.858373474800278,\n",
       " 5.220052920969837,\n",
       " 4.143978704215992,\n",
       " 15.435813262023753,\n",
       " 36.10066135723287,\n",
       " 62.01993008309033]"
      ]
     },
     "execution_count": 504,
     "metadata": {},
     "output_type": "execute_result"
    }
   ],
   "source": [
    "file_path = 'RelabDatabase2020Dec31/data/awb/mt/bkr1mt168a.txt'\n",
    "get_all_weighted_sums_from_file(file_path)"
   ]
  },
  {
   "cell_type": "code",
   "execution_count": null,
   "metadata": {},
   "outputs": [],
   "source": []
  }
 ],
 "metadata": {
  "kernelspec": {
   "display_name": "Python 3",
   "language": "python",
   "name": "python3"
  },
  "language_info": {
   "codemirror_mode": {
    "name": "ipython",
    "version": 3
   },
   "file_extension": ".py",
   "mimetype": "text/x-python",
   "name": "python",
   "nbconvert_exporter": "python",
   "pygments_lexer": "ipython3",
   "version": "3.7.6"
  }
 },
 "nbformat": 4,
 "nbformat_minor": 4
}
